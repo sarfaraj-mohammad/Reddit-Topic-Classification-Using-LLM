{
 "cells": [
  {
   "cell_type": "markdown",
   "metadata": {},
   "source": [
    "## Reddit Topic Classification Using LLM"
   ]
  },
  {
   "attachments": {
    "Reddit-Logo.png": {
     "image/png": "[encoded data removed]"
    }
   },
   "cell_type": "markdown",
   "metadata": {},
   "source": [
    "![Reddit-Logo.png](attachment:Reddit-Logo.png)"
   ]
  },
  {
   "cell_type": "code",
   "execution_count": 13,
   "metadata": {},
   "outputs": [],
   "source": [
    "import numpy as np\n",
    "import pandas as pd\n",
    "import os\n",
    "import tensorflow as tf\n",
    "from tensorflow import keras\n",
    "import matplotlib.pyplot as plt\n",
    "import matplotlib.image as mpimg\n",
    "import praw\n",
    "from datasets import Dataset, DatasetDict\n",
    "from transformers import AutoTokenizer, DataCollatorWithPadding, TFAutoModelForSequenceClassification\n",
    "from tensorflow.keras.optimizers.schedules import PolynomialDecay"
   ]
  },
  {
   "cell_type": "code",
   "execution_count": 2,
   "metadata": {},
   "outputs": [
    {
     "data": {
      "text/plain": [
       "'2.9.0'"
      ]
     },
     "execution_count": 2,
     "metadata": {},
     "output_type": "execute_result"
    }
   ],
   "source": [
    "tf.__version__"
   ]
  },
  {
   "cell_type": "markdown",
   "metadata": {},
   "source": [
    "#### For this task, we'll use Reddit posts using web scraping and will obtain posts of 2 subreddits, viz. ProLife(label 0) and ProChoice(label 1), that will also serve as the 2 categories for text classification."
   ]
  },
  {
   "cell_type": "code",
   "execution_count": 3,
   "metadata": {},
   "outputs": [],
   "source": [
    "reddit = praw.Reddit(client_id='9NWKSFAWSKmwZYVaiEgQmQ', \n",
    "                     client_secret='re63PZcwTihivGp6T8P8hOCKWJcskw', \n",
    "                     user_agent='aml')"
   ]
  },
  {
   "cell_type": "code",
   "execution_count": 4,
   "metadata": {},
   "outputs": [],
   "source": [
    "def get_subreddit_hot_posts(subreddits):\n",
    "    posts = []\n",
    "    for subreddit in subreddits:\n",
    "        for post in reddit.subreddit(subreddit).hot(limit=2000):\n",
    "            posts.append([post.selftext, subreddit, subreddits[subreddit]])\n",
    "    posts = pd.DataFrame(posts,columns=['body', 'subreddit', 'label'])\n",
    "    posts['num_words'] = posts['body'].map(lambda post: len(post.split()))\n",
    "    posts = posts[posts['num_words'] >= 20]\n",
    "\n",
    "    return posts"
   ]
  },
  {
   "cell_type": "code",
   "execution_count": 5,
   "metadata": {},
   "outputs": [],
   "source": [
    "def get_category_details(posts_df):\n",
    "    for subreddit in posts_df['subreddit'].unique():\n",
    "        subreddit_df = posts_df[posts_df[\"subreddit\"] == subreddit]\n",
    "        print(f'Category: {subreddit}')\n",
    "        print('{0:<25}'.format(f'Number of examples in category = {len(subreddit_df)}'))\n",
    "        print('{0:<25}'.format(f'Number of words in category = {sum(subreddit_df[\"num_words\"])}'))\n",
    "        print()"
   ]
  },
  {
   "cell_type": "code",
   "execution_count": 6,
   "metadata": {},
   "outputs": [
    {
     "name": "stdout",
     "output_type": "stream",
     "text": [
      "Category: ProLife\n",
      "Number of examples in category = 386\n",
      "Number of words in category = 60186\n",
      "\n",
      "Category: ProChoice\n",
      "Number of examples in category = 286\n",
      "Number of words in category = 53321\n",
      "\n"
     ]
    }
   ],
   "source": [
    "reddit_df = get_subreddit_hot_posts({'ProLife': 0, 'ProChoice': 1})\n",
    "get_category_details(reddit_df)"
   ]
  },
  {
   "cell_type": "code",
   "execution_count": 7,
   "metadata": {},
   "outputs": [
    {
     "name": "stdout",
     "output_type": "stream",
     "text": [
      "Total number of words in dataset = 113507\n"
     ]
    }
   ],
   "source": [
    "print('Total number of words in dataset =', sum(reddit_df['num_words']))"
   ]
  },
  {
   "cell_type": "code",
   "execution_count": 8,
   "metadata": {},
   "outputs": [
    {
     "data": {
      "text/html": [
       "<div>\n",
       "<style scoped>\n",
       "    .dataframe tbody tr th:only-of-type {\n",
       "        vertical-align: middle;\n",
       "    }\n",
       "\n",
       "    .dataframe tbody tr th {\n",
       "        vertical-align: top;\n",
       "    }\n",
       "\n",
       "    .dataframe thead th {\n",
       "        text-align: right;\n",
       "    }\n",
       "</style>\n",
       "<table border=\"1\" class=\"dataframe\">\n",
       "  <thead>\n",
       "    <tr style=\"text-align: right;\">\n",
       "      <th></th>\n",
       "      <th>body</th>\n",
       "      <th>subreddit</th>\n",
       "      <th>label</th>\n",
       "      <th>num_words</th>\n",
       "    </tr>\n",
       "  </thead>\n",
       "  <tbody>\n",
       "    <tr>\n",
       "      <th>0</th>\n",
       "      <td>The sub needs to have resources so that women ...</td>\n",
       "      <td>ProLife</td>\n",
       "      <td>0</td>\n",
       "      <td>53</td>\n",
       "    </tr>\n",
       "    <tr>\n",
       "      <th>1</th>\n",
       "      <td>Good Wednesday Pro-Lifers! During these distre...</td>\n",
       "      <td>ProLife</td>\n",
       "      <td>0</td>\n",
       "      <td>122</td>\n",
       "    </tr>\n",
       "    <tr>\n",
       "      <th>4</th>\n",
       "      <td>Aight so basically I think I fucked up,I’m 15,...</td>\n",
       "      <td>ProLife</td>\n",
       "      <td>0</td>\n",
       "      <td>202</td>\n",
       "    </tr>\n",
       "    <tr>\n",
       "      <th>6</th>\n",
       "      <td>On Saturday I found out that I'm pregnant with...</td>\n",
       "      <td>ProLife</td>\n",
       "      <td>0</td>\n",
       "      <td>60</td>\n",
       "    </tr>\n",
       "    <tr>\n",
       "      <th>9</th>\n",
       "      <td>When Roe V. Wade was overturned, I saw an actr...</td>\n",
       "      <td>ProLife</td>\n",
       "      <td>0</td>\n",
       "      <td>82</td>\n",
       "    </tr>\n",
       "  </tbody>\n",
       "</table>\n",
       "</div>"
      ],
      "text/plain": [
       "                                                body subreddit  label  \\\n",
       "0  The sub needs to have resources so that women ...   ProLife      0   \n",
       "1  Good Wednesday Pro-Lifers! During these distre...   ProLife      0   \n",
       "4  Aight so basically I think I fucked up,I’m 15,...   ProLife      0   \n",
       "6  On Saturday I found out that I'm pregnant with...   ProLife      0   \n",
       "9  When Roe V. Wade was overturned, I saw an actr...   ProLife      0   \n",
       "\n",
       "   num_words  \n",
       "0         53  \n",
       "1        122  \n",
       "4        202  \n",
       "6         60  \n",
       "9         82  "
      ]
     },
     "execution_count": 8,
     "metadata": {},
     "output_type": "execute_result"
    }
   ],
   "source": [
    "reddit_df.head()"
   ]
  },
  {
   "cell_type": "code",
   "execution_count": 9,
   "metadata": {},
   "outputs": [
    {
     "data": {
      "text/plain": [
       "{'body': {273: 'I thought this would be an interesting way for different people to explore their own arguments, as well as the other sides, in a better and more constructive way. Hopefully it works! \\n\\nFlipping the question. For me, I believe the best pro life argument is that everyone has a right to life and it should start as early as possible. I think the worst pro choice argument is that our bodily autonomy extents to killing people who are in their situation due to their actions. The whole kidnapping someone, putting them in your house, and killing them for being in your house type of arguments.',\n",
       "  1073: 'I live pretty close to my state Capitol and I’m pretty sure people will be protesting there. Especially since it’s a Friday night. And they were there when Roe was overturned. \\n\\nAny thoughts on this? It definitely sends a message even if there is much work to do. \\n\\nThoughts?',\n",
       "  841: 'When I\\'m \"debating\" pro choicers and pro aborties they always bring up some bullshit about how skin cells die every day and since they\\'re human we should value them just as much as the unborn and I respond with well your skin is an organ and not a unique human being, but if someone can help me understand this a bit more so I can have better talking points it would be phenomenal.',\n",
       "  1357: 'Judge Janet was just called by the New York Times to win - up 14 points! She’s pro choice, liberal, anti gerrymandering - this is great for Wisconsin!\\n\\nEdit: thanks so much for all the support. Our Supreme Court is now liberal I think and gerrymandering will be ended, which means that the pro life republicans will have a harder to time to keep getting elected.\\n\\nWoot woot, Judge Janet!!',\n",
       "  477: 'The famous TV sitcom Modern Family puts forward many \"progressive\" ideas such as gay marriage, gay adoption, interracial marriage, out-of-wedlock pregnancies.. the list is long.\\n\\nHowever, they did not talk about abortion at all. Like when Gloria gets pregnant with Jay\\'s kid when Jay was pushing 65 or when Hailey gets pregnant out of wedlock. I had expected the show to at least pop the question/option to either of the female characters.\\n\\nAny idea why?'},\n",
       " 'subreddit': {273: 'ProLife',\n",
       "  1073: 'ProChoice',\n",
       "  841: 'ProLife',\n",
       "  1357: 'ProChoice',\n",
       "  477: 'ProLife'},\n",
       " 'label': {273: 0, 1073: 1, 841: 0, 1357: 1, 477: 0},\n",
       " 'num_words': {273: 105, 1073: 49, 841: 73, 1357: 70, 477: 75}}"
      ]
     },
     "execution_count": 9,
     "metadata": {},
     "output_type": "execute_result"
    }
   ],
   "source": [
    "reddit_df.sample(5).to_dict()"
   ]
  },
  {
   "cell_type": "code",
   "execution_count": 83,
   "metadata": {},
   "outputs": [],
   "source": [
    "reddit_df.to_csv('reddit-dataset.csv')"
   ]
  },
  {
   "attachments": {},
   "cell_type": "markdown",
   "metadata": {},
   "source": [
    "### Splitting the dataset into training (at least 160 examples) and test (at least 40 examples) sets."
   ]
  },
  {
   "cell_type": "code",
   "execution_count": 12,
   "metadata": {},
   "outputs": [
    {
     "data": {
      "text/plain": [
       "Dataset({\n",
       "    features: ['body', 'subreddit', 'label', 'num_words', '__index_level_0__'],\n",
       "    num_rows: 672\n",
       "})"
      ]
     },
     "execution_count": 12,
     "metadata": {},
     "output_type": "execute_result"
    }
   ],
   "source": [
    "reddit_ds = Dataset.from_pandas(reddit_df)\n",
    "reddit_ds"
   ]
  },
  {
   "cell_type": "code",
   "execution_count": 16,
   "metadata": {},
   "outputs": [
    {
     "data": {
      "text/plain": [
       "DatasetDict({\n",
       "    train: Dataset({\n",
       "        features: ['body', 'subreddit', 'label', 'num_words', '__index_level_0__'],\n",
       "        num_rows: 537\n",
       "    })\n",
       "    valid: Dataset({\n",
       "        features: ['body', 'subreddit', 'label', 'num_words', '__index_level_0__'],\n",
       "        num_rows: 67\n",
       "    })\n",
       "    test: Dataset({\n",
       "        features: ['body', 'subreddit', 'label', 'num_words', '__index_level_0__'],\n",
       "        num_rows: 68\n",
       "    })\n",
       "})"
      ]
     },
     "execution_count": 16,
     "metadata": {},
     "output_type": "execute_result"
    }
   ],
   "source": [
    "reddit_ds = reddit_ds.shuffle()\n",
    "\n",
    "train_testvalid = reddit_ds.train_test_split(test_size=0.2)\n",
    "test_valid = train_testvalid['test'].train_test_split(test_size=0.5)\n",
    "reddit_ds = DatasetDict({\n",
    "    'train': train_testvalid['train'],\n",
    "    'valid': test_valid['train'],\n",
    "    'test': test_valid['test']\n",
    "})\n",
    "\n",
    "reddit_ds"
   ]
  },
  {
   "cell_type": "code",
   "execution_count": 17,
   "metadata": {},
   "outputs": [
    {
     "name": "stdout",
     "output_type": "stream",
     "text": [
      "Set: train\n",
      "Category     Examples    \n",
      "ProLife      309\n",
      "ProChoice    228\n",
      "Name: subreddit, dtype: int64\n",
      "Total Number of Examples = 537\n",
      "\n",
      "Set: valid\n",
      "Category     Examples    \n",
      "ProLife      37\n",
      "ProChoice    30\n",
      "Name: subreddit, dtype: int64\n",
      "Total Number of Examples = 67\n",
      "\n",
      "Set: test\n",
      "Category     Examples    \n",
      "ProLife      40\n",
      "ProChoice    28\n",
      "Name: subreddit, dtype: int64\n",
      "Total Number of Examples = 68\n",
      "\n"
     ]
    }
   ],
   "source": [
    "for split in reddit_ds:\n",
    "    category_example_count = reddit_ds[split].to_pandas()['subreddit'].value_counts()\n",
    "    print(f'Set: {split}')\n",
    "    print('{0:<12}'.format('Category'), '{0:<12}'.format('Examples'))\n",
    "    print(category_example_count)\n",
    "    print('Total Number of Examples =', sum(category_example_count))\n",
    "    print()"
   ]
  },
  {
   "attachments": {},
   "cell_type": "markdown",
   "metadata": {},
   "source": [
    "#### Let's use the pretrained BERT language model for text classification of the dataset prepared in previous steps."
   ]
  },
  {
   "cell_type": "code",
   "execution_count": 18,
   "metadata": {},
   "outputs": [],
   "source": [
    "checkpoint = 'bert-base-cased'\n",
    "tokenizer = AutoTokenizer.from_pretrained(checkpoint)"
   ]
  },
  {
   "cell_type": "code",
   "execution_count": 19,
   "metadata": {},
   "outputs": [],
   "source": [
    "def tokenize(posts):\n",
    "    return tokenizer(posts['body'], truncation=True)"
   ]
  },
  {
   "cell_type": "code",
   "execution_count": 20,
   "metadata": {},
   "outputs": [
    {
     "name": "stderr",
     "output_type": "stream",
     "text": [
      "                                                   \r"
     ]
    }
   ],
   "source": [
    "tokenized_ds = reddit_ds.map(tokenize, batched=True)"
   ]
  },
  {
   "cell_type": "code",
   "execution_count": 21,
   "metadata": {},
   "outputs": [],
   "source": [
    "data_collator = DataCollatorWithPadding(tokenizer=tokenizer, return_tensors='tf')"
   ]
  },
  {
   "cell_type": "code",
   "execution_count": 22,
   "metadata": {},
   "outputs": [
    {
     "name": "stderr",
     "output_type": "stream",
     "text": [
      "You're using a BertTokenizerFast tokenizer. Please note that with a fast tokenizer, using the `__call__` method is faster than using a method to encode the text followed by a call to the `pad` method to get a padded encoding.\n"
     ]
    },
    {
     "name": "stdout",
     "output_type": "stream",
     "text": [
      "Metal device set to: Apple M1 Pro\n",
      "\n",
      "systemMemory: 16.00 GB\n",
      "maxCacheSize: 5.33 GB\n",
      "\n"
     ]
    },
    {
     "name": "stderr",
     "output_type": "stream",
     "text": [
      "2023-04-26 09:27:28.161259: I tensorflow/core/common_runtime/pluggable_device/pluggable_device_factory.cc:305] Could not identify NUMA node of platform GPU ID 0, defaulting to 0. Your kernel may not have been built with NUMA support.\n",
      "2023-04-26 09:27:28.161400: I tensorflow/core/common_runtime/pluggable_device/pluggable_device_factory.cc:271] Created TensorFlow device (/job:localhost/replica:0/task:0/device:GPU:0 with 0 MB memory) -> physical PluggableDevice (device: 0, name: METAL, pci bus id: <undefined>)\n"
     ]
    }
   ],
   "source": [
    "train_ds = tokenized_ds['train'].to_tf_dataset(\n",
    "    columns=['attention_mask', 'input_ids'],\n",
    "    label_cols=['label'],\n",
    "    shuffle=True,\n",
    "    batch_size=32,\n",
    "    collate_fn=data_collator\n",
    ")\n",
    "\n",
    "valid_ds = tokenized_ds['valid'].to_tf_dataset(\n",
    "    columns=['attention_mask', 'input_ids',],\n",
    "    label_cols=['label'],\n",
    "    shuffle=False,\n",
    "    batch_size=32,\n",
    "    collate_fn=data_collator\n",
    ")\n",
    "\n",
    "test_ds = tokenized_ds['test'].to_tf_dataset(\n",
    "    columns=['attention_mask', 'input_ids',],\n",
    "    label_cols=['label'],\n",
    "    shuffle=False,\n",
    "    batch_size=32,\n",
    "    collate_fn=data_collator\n",
    ")"
   ]
  },
  {
   "cell_type": "code",
   "execution_count": 23,
   "metadata": {},
   "outputs": [
    {
     "name": "stderr",
     "output_type": "stream",
     "text": [
      "All model checkpoint layers were used when initializing TFBertForSequenceClassification.\n",
      "\n",
      "Some layers of TFBertForSequenceClassification were not initialized from the model checkpoint at bert-base-cased and are newly initialized: ['classifier']\n",
      "You should probably TRAIN this model on a down-stream task to be able to use it for predictions and inference.\n"
     ]
    }
   ],
   "source": [
    "model = TFAutoModelForSequenceClassification.from_pretrained(checkpoint, num_labels=2)"
   ]
  },
  {
   "cell_type": "code",
   "execution_count": 25,
   "metadata": {},
   "outputs": [
    {
     "name": "stdout",
     "output_type": "stream",
     "text": [
      "Epoch 1/5\n"
     ]
    },
    {
     "name": "stderr",
     "output_type": "stream",
     "text": [
      "2023-04-26 09:34:37.655977: W tensorflow/core/platform/profile_utils/cpu_utils.cc:128] Failed to get CPU frequency: 0 Hz\n",
      "2023-04-26 09:34:45.645375: I tensorflow/core/grappler/optimizers/custom_graph_optimizer_registry.cc:113] Plugin optimizer for device_type GPU is enabled.\n"
     ]
    },
    {
     "name": "stdout",
     "output_type": "stream",
     "text": [
      "17/17 [==============================] - ETA: 0s - loss: 0.7001 - accuracy: 0.5233 "
     ]
    },
    {
     "name": "stderr",
     "output_type": "stream",
     "text": [
      "2023-04-26 09:47:06.417814: I tensorflow/core/grappler/optimizers/custom_graph_optimizer_registry.cc:113] Plugin optimizer for device_type GPU is enabled.\n"
     ]
    },
    {
     "name": "stdout",
     "output_type": "stream",
     "text": [
      "17/17 [==============================] - 760s 45s/step - loss: 0.7001 - accuracy: 0.5233 - val_loss: 0.6805 - val_accuracy: 0.7164\n",
      "Epoch 2/5\n",
      "17/17 [==============================] - 741s 44s/step - loss: 0.6992 - accuracy: 0.5102 - val_loss: 0.6528 - val_accuracy: 0.6866\n",
      "Epoch 3/5\n",
      "17/17 [==============================] - 737s 43s/step - loss: 0.6287 - accuracy: 0.6238 - val_loss: 0.5696 - val_accuracy: 0.7463\n",
      "Epoch 4/5\n",
      "17/17 [==============================] - 727s 43s/step - loss: 0.5121 - accuracy: 0.7505 - val_loss: 0.5857 - val_accuracy: 0.7463\n",
      "Epoch 5/5\n",
      "17/17 [==============================] - 764s 45s/step - loss: 0.4112 - accuracy: 0.8287 - val_loss: 0.5468 - val_accuracy: 0.7761\n"
     ]
    }
   ],
   "source": [
    "num_epochs = 5\n",
    "\n",
    "num_train_steps = len(train_ds) * num_epochs\n",
    "\n",
    "lr_scheduler = PolynomialDecay(\n",
    "    initial_learning_rate=5e-5,\n",
    "    end_learning_rate=0.0,\n",
    "    decay_steps=num_train_steps\n",
    ")\n",
    "\n",
    "optim = keras.optimizers.Adam(learning_rate=lr_scheduler)\n",
    "loss = tf.keras.losses.SparseCategoricalCrossentropy(from_logits=True)\n",
    "\n",
    "model.compile(optimizer=optim, loss=loss, metrics=['accuracy'])\n",
    "\n",
    "history = model.fit(train_ds, validation_data=valid_ds, epochs=num_epochs, workers=7, use_multiprocessing=True)"
   ]
  },
  {
   "cell_type": "code",
   "execution_count": 26,
   "metadata": {},
   "outputs": [
    {
     "data": {
      "image/png": "[encoded data removed]",
      "text/plain": [
       "<Figure size 800x500 with 1 Axes>"
      ]
     },
     "metadata": {},
     "output_type": "display_data"
    }
   ],
   "source": [
    "pd.DataFrame(history.history).plot(figsize=(8,5))\n",
    "plt.grid(True)\n",
    "plt.show()"
   ]
  },
  {
   "attachments": {},
   "cell_type": "markdown",
   "metadata": {},
   "source": [
    "#### Evaluating the model on test set"
   ]
  },
  {
   "cell_type": "code",
   "execution_count": 27,
   "metadata": {},
   "outputs": [
    {
     "name": "stdout",
     "output_type": "stream",
     "text": [
      "3/3 [==============================] - 8s 3s/step - loss: 0.7497 - accuracy: 0.6324\n"
     ]
    },
    {
     "data": {
      "text/plain": [
       "[0.7496947646141052, 0.6323529481887817]"
      ]
     },
     "execution_count": 27,
     "metadata": {},
     "output_type": "execute_result"
    }
   ],
   "source": [
    "model.evaluate(test_ds)"
   ]
  },
  {
   "cell_type": "code",
   "execution_count": 81,
   "metadata": {},
   "outputs": [
    {
     "name": "stdout",
     "output_type": "stream",
     "text": [
      "1/1 [==============================] - 2s 2s/step\n",
      "1/1 [==============================] - 1s 1s/step\n",
      "1/1 [==============================] - 1s 806ms/step\n"
     ]
    }
   ],
   "source": [
    "test_set_y = np.array([])\n",
    "test_set_y_hat = np.array([])\n",
    "test_posts = np.array([])\n",
    "\n",
    "for x,y in test_ds:\n",
    "    for i in range(len(x['input_ids'])):\n",
    "        unpadded_seq = tf.boolean_mask(x['input_ids'][i], x['attention_mask'][i])\n",
    "        decoded_text = tokenizer.decode(unpadded_seq)\n",
    "        test_posts = np.append(test_posts, decoded_text)\n",
    "    test_set_y = np.append(test_set_y, y.numpy())\n",
    "    test_set_predictions = model.predict(x)['logits']\n",
    "    test_set_y_hat = np.append(test_set_y_hat, np.argmax(test_set_predictions, axis=1))"
   ]
  },
  {
   "attachments": {},
   "cell_type": "markdown",
   "metadata": {},
   "source": [
    "#### Few examples of test set classification"
   ]
  },
  {
   "cell_type": "code",
   "execution_count": 82,
   "metadata": {},
   "outputs": [
    {
     "name": "stdout",
     "output_type": "stream",
     "text": [
      "Post 1:\n",
      "[CLS] Thus far I have Leslie J Reagan ’ s “ When Abortion Was a Crime ”, but I was hoping to find other books that also had a comprehensive historical examination of abortion. Other books that supposedly do this are written by pro - life authors, so I hesitate to read those on account of the kind of rhetoric they might engage in. Does anyone have any suggestions? Thank you! [SEP]\n",
      "Actual category: ProChoice(1)\n",
      "Predicted category: ProLife(0)\n",
      "\n",
      "Post 2:\n",
      "[CLS] Good Wednesday Pro - Lifers! During these distressing times we can get very frustrated with ourselves, friends families and even society. Fret not, because this post is dedicated to you guys discussing a wide range of topics outside of abortions if you need too. Topics such as movies, sports, hobbies, current events or major events happening in the world and maybe even other politics if you choose too. This chat is your escape, to talk about other things as well and to further connect with other members of Pro - life. You are not restricted to any topics in the post, however follow Reddit's guidelines. Be nice, don ’ t spam, and have a good time. Since I am a bot this message will be repeated every Wednesday. [SEP]\n",
      "Actual category: ProLife(0)\n",
      "Predicted category: ProLife(0)\n",
      "\n",
      "Post 3:\n",
      "[CLS] This is probably the strongest argument I think the PC side has and I am looking for a few good rebuttals to this. The only real one I have is you chose sex this consented to the child but this is never convincing and would logically require a rape exception. [SEP]\n",
      "Actual category: ProLife(0)\n",
      "Predicted category: ProLife(0)\n",
      "\n",
      "Post 4:\n",
      "[CLS] Abortionist Ronald Tauber should never have even considered doing an abortion on Gloria considering all of her health problems. Gloria was obese and had asthma, a chronic lung disease and a family history of high blood pressure. Gloria was 34 and a mother of six when she underwent the 15 - week abortion. Tauber tore her uterus and Gloria had to have an emergency hysterectomy. Even the emergency surgery wasn ’ t enough to save her and she died on March 7, the day after the abortion. Medical examiner Dr. Herron later said under oath that there was a 4 to 5 inch tear in Gloria ’ s uterus and she went into shock before she died. The coroner ’ s office notified the Orlando Police Department and the Orange - Osceola state attorney's office of the suspicious death and a full - scale criminal investigation was launched. There was so much wrong with Tauber ’ s practices that the investigation and news coverage ( rarely seen in legal abortion deaths ) continued for eight months. Tauber ’ s deplorable record went all the way back to the start of his practice — his hospital privileges were suspended or denied at four different hospitals during his first year and a half of private practice alone. More recently, he ’ d lost hospital privileges at 2 hospitals after at least the 11th time his clients had to be hospitalized. Florida Hospital banned him for * “ Failure to exercise sound clinical judgment in the selection of modalities of treatment ; Failure to use, and presumably to possess, adequate surgical skills ; Falsification of the degree of his experience and training ; Disruptive use of the hospital and nursing services ” * and * “ Apparent failure to appreciate his limitations. ” * Orlando Regional Medical Center voted to deny him privileges for multiple cases of * “ poor surgical judgment ” * and for yelling at people in the hospital hallways. He ’ d also been the only one vocally opposing a hospital ’ s policy that required the OB / GYN department to focus on providing real healthcare instead of abortion. One nurse called him a murderer after the 11th time one of his clients had to be rushed to the hospital — and this was * before * he killed Gloria. On her last day alive, he kept Gloria at the facility and let her keep bleeding and go into shock for 30 hours instead of calling an ambulance immediately. A police raid was conducted and Tauber was arrested for manslaughter. The Florida Board [SEP]\n",
      "Actual category: ProLife(0)\n",
      "Predicted category: ProChoice(1)\n",
      "\n",
      "Post 5:\n",
      "[CLS] & # x200B ; https : / / preview. redd. it / 84gflyegmsqa1. png? width = 606 & format = png & auto = webp & v = enabled & s = ba7af649dfd17a62c125bf9e5c09f591ccaa7401 On Good Friday we remember all the victims of abortion — the children lost, the mothers wounded, the communities blighted — in a solemn, ecumenical prayer service : April 7, Good Friday, Way of the Cross Stations led by Fr Rodney Kneifl. 9 : 00am at the Bellevue abortion center, 1002 W Mission Ave. 11 : 00am at Omaha Planned Parenthood, 3105 N 93 St. Sponsored by www. ProLifeAction. org, and www. NebraskansEmbracingLife. org Join us as we pray for healing for the victims of abortion and for a final end to this injustice in our land. [SEP]\n",
      "Actual category: ProLife(0)\n",
      "Predicted category: ProChoice(1)\n",
      "\n"
     ]
    }
   ],
   "source": [
    "label_category = {0:'ProLife', 1:'ProChoice'}\n",
    "\n",
    "for i in range(5):\n",
    "    print(f'Post {i+1}:', test_posts[i], sep='\\n')\n",
    "    print(f'Actual category: {label_category[int(test_set_y[i])]}({int(test_set_y[i])})')\n",
    "    print(f'Predicted category: {label_category[int(test_set_y_hat[i])]}({int(test_set_y_hat[i])})')\n",
    "    print()"
   ]
  },
  {
   "cell_type": "code",
   "execution_count": 70,
   "metadata": {},
   "outputs": [
    {
     "name": "stdout",
     "output_type": "stream",
     "text": [
      "Number of posts in test set = 68\n",
      "Number of correctly classified posts = 43\n",
      "Number of incorrectly classified posts = 25\n"
     ]
    }
   ],
   "source": [
    "misclassified = sum(test_set_y != test_set_y_hat)\n",
    "print(f'Number of posts in test set = {reddit_ds.num_rows[\"test\"]}')\n",
    "print(f'Number of correctly classified posts = {reddit_ds.num_rows[\"test\"] - misclassified}')\n",
    "print(f'Number of incorrectly classified posts = {misclassified}')"
   ]
  },
  {
   "attachments": {},
   "cell_type": "markdown",
   "metadata": {},
   "source": [
    "### Observations:\n",
    "- Even though we fine-tuned a pretrained model, the test accuracy is quite low as compared to an expected accuracy which can be due to the small amount of training data that might be insufficient for the complex task of predicting the category/class/subreddit of each post."
   ]
  },
  {
   "attachments": {},
   "cell_type": "markdown",
   "metadata": {},
   "source": [
    "### Scope of Improvement:\n",
    "- If we fine-tune the model with a larger dataset, the model can learn from more varied examples and an improvement in accuracy can be achieved.\n",
    "- We can also clean dataset to even more extent such that it ensures that the posts/examples used for training the model are actually relevant to their respective categories and also are correlated with other posts of same category but that will require a lot of human effort to do so.\n",
    "- Depending on the availability of computing resources, Hyperparameters of the model can be tuned and the model can be trained for more epochs to gain slight improvement in accuracy."
   ]
  },
  {
   "attachments": {},
   "cell_type": "markdown",
   "metadata": {},
   "source": [
    "### References\n",
    "- Aurlien Gron. 2017. Hands-On Machine Learning with Scikit-Learn and TensorFlow: Concepts, Tools, and Techniques to Build Intelligent Systems (2nd ed.). O’Reilly Media, Inc\n",
    "- https://towardsdatascience.com/scraping-reddit-data-1c0af3040768\n",
    "- https://huggingface.co/learn/nlp-course/chapter3/3?fw=tf"
   ]
  }
 ],
 "metadata": {
  "kernelspec": {
   "display_name": ".venv",
   "language": "python",
   "name": "python3"
  },
  "language_info": {
   "codemirror_mode": {
    "name": "ipython",
    "version": 3
   },
   "file_extension": ".py",
   "mimetype": "text/x-python",
   "name": "python",
   "nbconvert_exporter": "python",
   "pygments_lexer": "ipython3",
   "version": "3.11.1"
  },
  "orig_nbformat": 4,
  "vscode": {
   "interpreter": {
    "hash": "e043a2cc0f70a546e705f9444ad6281941166bbafa6c1632095e5e019f3c0da9"
   }
  }
 },
 "nbformat": 4,
 "nbformat_minor": 2
}
